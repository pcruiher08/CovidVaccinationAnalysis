{
  "cells": [
    {
      "cell_type": "markdown",
      "metadata": {
        "id": "hv0M7sQDeq0g"
      },
      "source": [
        "# Assignment 2: Supervised Classification\n",
        "\n",
        "Authors: \\\\\n",
        "Eduardo Angulo Martinez - A00820188 \\\\\n",
        "Carlos Javier García Treviño - A01196981 \\\\\n",
        "Pablo César Ruiz Hernádez - A01197044"
      ]
    },
    {
      "cell_type": "markdown",
      "metadata": {
        "id": "7m2KBb8Aegxz"
      },
      "source": [
        "# Summary\n",
        "\n",
        "During last sessions of Machine Learning (CS4013) course we have studied a wide variety of ways to apply classifiers to datasets in order to find relationships between the different variables included within each database. Some examples of the studied classifiers are decision trees, kNN, Fisher, Random Forest, Support Vector Machine, to mention a few. \\\\\n",
        " \\\\\n",
        "For this particular activity, we are going to work with a randomly assigned dataset retrieved from the UCI ML repository [1]. Then, we are going to apply three of the previously mentioned classifiers (we are going to select them depending on the situation) and try to find a relationship between the attributes of the dataset."
      ]
    },
    {
      "cell_type": "markdown",
      "metadata": {
        "id": "aYMp87h9eH9F"
      },
      "source": [
        "# Description of work done\n",
        "The information used in this homework is dataset: 3 - Census Income, based on the sum of the rightmost digit of the teammates' id and taking the rightmost digit of the sum. In this case (8+1+4) = 13, so digit taken was '3'."
      ]
    },
    {
      "cell_type": "markdown",
      "metadata": {
        "id": "6yH-QJGLkrJY"
      },
      "source": [
        "From what we have learned during this semester, we have identified some Python libraries that are really usefull for machine learning topics: Scikit-learn and pandas. The first one of them is a very powerful tool [2], since it features most of the classifiers mentioned on the Summary section. On the other hand, pandas is a library commonly used for dataframe manipulation [3]; it works perfectly well on Python and it's open-source, so we will use it on our assignment. \\\\\n",
        " \\\\\n",
        "As the first step, we import every usefull extension of this libraries:"
      ]
    },
    {
      "cell_type": "code",
      "execution_count": 1,
      "metadata": {
        "id": "dNLgNa9OfSC7"
      },
      "outputs": [
        {
          "name": "stderr",
          "output_type": "stream",
          "text": [
            "c:\\Users\\pcruiher08\\AppData\\Local\\Programs\\Python\\Python37\\lib\\site-packages\\numpy\\_distributor_init.py:32: UserWarning: loaded more than 1 DLL from .libs:\n",
            "c:\\Users\\pcruiher08\\AppData\\Local\\Programs\\Python\\Python37\\lib\\site-packages\\numpy\\.libs\\libopenblas.PYQHXLVVQ7VESDPUVUADXEVJOBGHJPAY.gfortran-win_amd64.dll\n",
            "c:\\Users\\pcruiher08\\AppData\\Local\\Programs\\Python\\Python37\\lib\\site-packages\\numpy\\.libs\\libopenblas.WCDJNK7YVMPZQ2ME2ZZHJJRJ3JIKNDB7.gfortran-win_amd64.dll\n",
            "  stacklevel=1)\n"
          ]
        }
      ],
      "source": [
        "# Libraries\n",
        "import pandas as pd\n",
        "import numpy as np\n",
        "import graphviz\n",
        "import matplotlib.pyplot as plt\n",
        "%matplotlib inline\n",
        "import seaborn as sns\n",
        "import plotly as py\n",
        "from sklearn.model_selection import train_test_split\n",
        "from sklearn.model_selection import cross_val_score\n",
        "from sklearn.metrics import accuracy_score\n",
        "from sklearn.metrics import classification_report\n",
        "from sklearn.metrics import roc_curve, auc, roc_auc_score\n",
        "from sklearn.metrics import plot_roc_curve\n",
        "from sklearn.metrics import confusion_matrix\n",
        "from sklearn.tree import plot_tree\n",
        "from sklearn.tree import DecisionTreeClassifier\n",
        "from sklearn.neighbors import KNeighborsClassifier\n",
        "from sklearn.svm import SVC\n",
        "from sklearn import tree\n",
        "from sklearn import preprocessing\n",
        "from plotly.offline import iplot"
      ]
    },
    {
      "cell_type": "markdown",
      "metadata": {
        "id": "4sFrlYSz5iyn"
      },
      "source": [
        "## Data preprocessing\n",
        "The second activity of the assignment was to clean the input dataset. As we can observe, the dataset contains 15 attributes (or columns) of information; some of them contain null values -which are represented by a question mark, '?'- so we drop these observations in order to make the dataset tidy."
      ]
    },
    {
      "cell_type": "code",
      "execution_count": 2,
      "metadata": {
        "id": "7UMfX7qGl3Oq"
      },
      "outputs": [],
      "source": [
        "def importdata():\n",
        "  columns = ['age', 'workclass', 'fnlwgt', 'education', 'education-num','marital-status',\n",
        "            'occupation', 'relationship', 'race', 'sex', 'capital-gain', 'capital-loss',\n",
        "            'hours-per-week', 'native-country', 'income']\n",
        "  data = pd.read_csv(\n",
        "  'https://archive.ics.uci.edu/ml/machine-learning-databases/adult/adult.data',\n",
        "  sep= ', ', names=columns)\n",
        "  data.drop(data.index[data['native-country'] == '?'], inplace=True)\n",
        "  data.drop(data.index[data['occupation'] == '?'], inplace=True)\n",
        "  data = data.reset_index()\n",
        "  return data"
      ]
    },
    {
      "cell_type": "code",
      "execution_count": 3,
      "metadata": {
        "id": "chUb26_kz-_M"
      },
      "outputs": [
        {
          "name": "stderr",
          "output_type": "stream",
          "text": [
            "c:\\Users\\pcruiher08\\AppData\\Local\\Programs\\Python\\Python37\\lib\\site-packages\\ipykernel_launcher.py:7: ParserWarning:\n",
            "\n",
            "Falling back to the 'python' engine because the 'c' engine does not support regex separators (separators > 1 char and different from '\\s+' are interpreted as regex); you can avoid this warning by specifying engine='python'.\n",
            "\n"
          ]
        }
      ],
      "source": [
        "dataset = importdata()"
      ]
    },
    {
      "cell_type": "markdown",
      "metadata": {
        "id": "_i5QO19vC_Ri"
      },
      "source": [
        "## Data visualization\n",
        "With the tidy dataset, we were able to represent the observations on different kind of graphs and plot in an easier way. We decided to invest time on this stage, since with these graphs we were able to decide which attributes were we going to study on the classification section."
      ]
    },
    {
      "cell_type": "code",
      "execution_count": 4,
      "metadata": {
        "colab": {
          "base_uri": "https://localhost:8080/",
          "height": 309
        },
        "id": "8fliBF-RDBDs",
        "outputId": "27daeece-7f18-4574-8763-b407c91df0b9"
      },
      "outputs": [
        {
          "data": {
            "text/plain": [
              "<AxesSubplot:>"
            ]
          },
          "execution_count": 4,
          "metadata": {},
          "output_type": "execute_result"
        },
        {
          "data": {
            "image/png": "[encoded data removed]",
            "text/plain": [
              "<Figure size 432x288 with 1 Axes>"
            ]
          },
          "metadata": {
            "needs_background": "light"
          },
          "output_type": "display_data"
        }
      ],
      "source": [
        "dataset['income'].value_counts().plot(kind='bar')"
      ]
    },
    {
      "cell_type": "code",
      "execution_count": 5,
      "metadata": {
        "colab": {
          "base_uri": "https://localhost:8080/",
          "height": 722
        },
        "id": "ak0Fcf-uDNse",
        "outputId": "a396e1b0-b9bb-4c80-9095-ebf651d64081"
      },
      "outputs": [
        {
          "data": {
            "text/plain": [
              "(array([ 0,  1,  2,  3,  4,  5,  6,  7,  8,  9, 10, 11, 12, 13]),\n",
              " [Text(0, 0, 'Adm-clerical'),\n",
              "  Text(1, 0, 'Exec-managerial'),\n",
              "  Text(2, 0, 'Handlers-cleaners'),\n",
              "  Text(3, 0, 'Prof-specialty'),\n",
              "  Text(4, 0, 'Other-service'),\n",
              "  Text(5, 0, 'Sales'),\n",
              "  Text(6, 0, 'Transport-moving'),\n",
              "  Text(7, 0, 'Farming-fishing'),\n",
              "  Text(8, 0, 'Machine-op-inspct'),\n",
              "  Text(9, 0, 'Tech-support'),\n",
              "  Text(10, 0, 'Craft-repair'),\n",
              "  Text(11, 0, 'Protective-serv'),\n",
              "  Text(12, 0, 'Armed-Forces'),\n",
              "  Text(13, 0, 'Priv-house-serv')])"
            ]
          },
          "execution_count": 5,
          "metadata": {},
          "output_type": "execute_result"
        },
        {
          "data": {
            "image/png": "[encoded data removed]",
            "text/plain": [
              "<Figure size 1080x720 with 1 Axes>"
            ]
          },
          "metadata": {
            "needs_background": "light"
          },
          "output_type": "display_data"
        }
      ],
      "source": [
        "plt.figure(figsize=(15,10))\n",
        "sns.barplot(x='occupation',y='capital-gain',data=dataset,hue='sex')\n",
        "plt.xticks(rotation=70)"
      ]
    },
    {
      "cell_type": "code",
      "execution_count": 6,
      "metadata": {
        "colab": {
          "base_uri": "https://localhost:8080/",
          "height": 1000
        },
        "id": "_kO2lfAyEivQ",
        "outputId": "b5733f4a-1734-473c-c1dd-bee641beb605"
      },
      "outputs": [
        {
          "data": {
            "text/plain": [
              "<AxesSubplot:xlabel='education', ylabel='hours-per-week'>"
            ]
          },
          "execution_count": 6,
          "metadata": {},
          "output_type": "execute_result"
        },
        {
          "data": {
            "image/png": "[encoded data removed]",
            "text/plain": [
              "<Figure size 1440x1296 with 1 Axes>"
            ]
          },
          "metadata": {
            "needs_background": "light"
          },
          "output_type": "display_data"
        }
      ],
      "source": [
        "plt.figure(figsize=(20,18))\n",
        "sns.barplot(x='education',y='hours-per-week', data=dataset, hue='income')\n",
        "##Checking the distribution of Education and  Hours_per_week as gender"
      ]
    },
    {
      "cell_type": "markdown",
      "metadata": {
        "id": "ZJcMw2rG_rA0"
      },
      "source": [
        "From the previous plots, we decided to work with the following attributes -since they are the most important ones for us- : age, fnlwgt, education-num, and hours-per-week."
      ]
    },
    {
      "cell_type": "markdown",
      "metadata": {
        "id": "MWzIf7aTDrqj"
      },
      "source": [
        "## Encoding categorical values\n",
        "In the fourth step, and with our attributes already selected, we needed to filter a little bit more our dataset by creating a one-hot numeric array to standarize the features. \\\\\n",
        "To do so, we implemented the following two python functions. The \"onehotencoder\" function is in charge of converting the input dataset with integers and/or string values into an output array with encoded information [4]. The reason to do this was that, according to Scikit-learn documentation, many classifiers from sklearn library require encoded categorical data in order to properly work, so this was a necessary step. \\\\\n",
        "On the other hand, with \"standarscaler\" function we were able to use these sklearn libraries to standarize the features of our dataset [5]."
      ]
    },
    {
      "cell_type": "code",
      "execution_count": 7,
      "metadata": {
        "id": "5Vgl3tRPV55H"
      },
      "outputs": [],
      "source": [
        "def standarscaler(data):\n",
        "  scaler = preprocessing.StandardScaler()\n",
        "  train_col_scale = data[['age', 'fnlwgt', 'education-num', 'hours-per-week']]\n",
        "  train_scaler_col = scaler.fit_transform(train_col_scale)\n",
        "  train_scaler_col = pd.DataFrame(train_scaler_col, columns=train_col_scale.columns)\n",
        "  data['age'] = train_scaler_col['age']\n",
        "  data['fnlwgt'] = train_scaler_col['fnlwgt']\n",
        "  data['education-num'] = train_scaler_col['education-num']\n",
        "  data['hours-per-week'] = train_scaler_col['hours-per-week']\n",
        "  return data"
      ]
    },
    {
      "cell_type": "code",
      "execution_count": 8,
      "metadata": {
        "id": "6JJHnk2E6AEs"
      },
      "outputs": [],
      "source": [
        "def onehotencoder(dataset):\n",
        "  le = preprocessing.LabelEncoder() # label encoder \n",
        "  dataset['income'] = le.fit_transform(dataset['income']) \n",
        "  dataset['sex'] = le.fit_transform(dataset['sex'])\n",
        "  dataset = pd.get_dummies(dataset,drop_first=True)\n",
        "  return dataset"
      ]
    },
    {
      "cell_type": "code",
      "execution_count": 9,
      "metadata": {
        "id": "cWxRwB41D7bv"
      },
      "outputs": [],
      "source": [
        "dataset = onehotencoder(dataset)\n",
        "dataset = standarscaler(dataset)"
      ]
    },
    {
      "cell_type": "markdown",
      "metadata": {
        "id": "UemD7_ThEQFy"
      },
      "source": [
        "## Data Spliting\n",
        "Then, we finally arrived to the step before the classification begins: data splitting. Here we divided our dataset into two: the train section and the test section. To do so, we used the sklearn function known as \"train_test_split\"; this function received four parameters, which were ... \\\\\n",
        "1. X-dataset: this portion represented the \"sex\" column of our standarized dataframe.\n",
        "2. Y-dataset: this portion represented the \"income\" column of our standarized dataframe.\n",
        "3. test_size: this parameter represent the proportion of information that will be treated as data for the TEST SECTION. In our case, we decided to use 30% of the information for the TEST SECTION.\n",
        "4. random_state: this parameter controls the suffling applied to the dataframe [6]. We decided to go with a value of 100."
      ]
    },
    {
      "cell_type": "code",
      "execution_count": 10,
      "metadata": {
        "id": "43hyDuDRoaH1"
      },
      "outputs": [],
      "source": [
        "# Function to split the dataset\n",
        "def splitdataset(data):\n",
        "  X = data.drop(['income'],axis=1)\n",
        "  Y = data['income']\n",
        "  # Splitting the dataset into train and test\n",
        "  X_train, X_test, y_train, y_test = train_test_split( \n",
        "  X, Y, test_size = 0.3, random_state = 100)\n",
        "  return X, Y, X_train, X_test, y_train, y_test"
      ]
    },
    {
      "cell_type": "code",
      "execution_count": 11,
      "metadata": {
        "id": "T0N--fPgEYvo"
      },
      "outputs": [],
      "source": [
        "X, Y, X_train, X_test, y_train, y_test = splitdataset(dataset)"
      ]
    },
    {
      "cell_type": "markdown",
      "metadata": {
        "id": "BGzGo_Jc5sOJ"
      },
      "source": [
        "# Decision Tree Model\n",
        "\n",
        "For the Decision Tree Model we organized the structure of the code with three different main functions. \n",
        "\n",
        "One for calculating accuracy of the predictions using a confusion matrix and a general accuracy percentage calculation. \n",
        "\n",
        "One for launching the prediction in the three given the test data.\n",
        "\n",
        "And one for training with entropy using the train data.\n",
        "\n",
        "\n",
        "For the call of the first tree (the Decision Tree), a depth of 3 and an amount of 5 leaves were chosen for the first three, 8 and 10 for the second one, and 13 and 15 for the third one. This two parameters have a default value of 0 and 1. For the case of the depth, if it was 0, nodes would be expanded until all leaves are pure or until all leaves contain less than the minimum amount of samples when splitting. As for the amount of leaves, 5 was chosen to be the minimum number of samples needed to be at a leaf node.\n",
        "\n",
        "In general, the model has a default setting called gini which measures the quality of the split based on Gini impurity when training. We chose to train with entropy to take into account the information gain instead (and it was part of the assignment).\n",
        "\n",
        "\n",
        "After that, the prediction is done utilizing the test part of the dataset and the trainging previously done.\n",
        "\n",
        "Then, we call the accuracy function to display the results. \n",
        "\n"
      ]
    },
    {
      "cell_type": "code",
      "execution_count": 18,
      "metadata": {
        "id": "flMuAwb-oqAw"
      },
      "outputs": [],
      "source": [
        "# Function to calculate accuracy\n",
        "def accuracy_tree(y_test_tree, y_pred_tree, clf_entropy):\n",
        "  cross_val_score(clf_entropy, X_train, y_train, cv=10)\n",
        "  print(\"Confusion Matrix: \", '\\n',\n",
        "        confusion_matrix(y_test_tree, y_pred_tree))\n",
        "  print(\"Accuracy: \",\n",
        "        accuracy_score(y_test_tree,y_pred_tree)*100)\n",
        "  print(\"Report: \", '\\n',\n",
        "        classification_report(y_test, y_pred_tree))"
      ]
    },
    {
      "cell_type": "code",
      "execution_count": 19,
      "metadata": {
        "id": "TjtOrYtHooBg"
      },
      "outputs": [],
      "source": [
        "# Function to make predictions\n",
        "def prediction_tree(X_test_tree, clf_object_tree):\n",
        "  # Prediction on test with giniIndex\n",
        "  y_pred_tree = clf_object_tree.predict(X_test_tree)\n",
        "  print(\"Predicted values:\")\n",
        "  print(y_pred_tree)\n",
        "  return y_pred_tree"
      ]
    },
    {
      "cell_type": "code",
      "execution_count": 20,
      "metadata": {
        "id": "eLTBGLRtoMjK"
      },
      "outputs": [],
      "source": [
        "# Function to perform training with entropy.\n",
        "def train_tree(X_train_tree, y_train_tree, depth, leaf):\n",
        "  # Decision tree with entropy\n",
        "  clf_entropy = DecisionTreeClassifier(\n",
        "    criterion = \"entropy\", random_state = 100,\n",
        "    max_depth = depth, min_samples_leaf = leaf)\n",
        "  # Performing training\n",
        "  clf_entropy.fit(X_train_tree, y_train_tree)\n",
        "  return clf_entropy"
      ]
    },
    {
      "cell_type": "code",
      "execution_count": 21,
      "metadata": {
        "colab": {
          "base_uri": "https://localhost:8080/"
        },
        "id": "dExbhdydiEBJ",
        "outputId": "bdcb25de-8706-4a10-d5d8-f769f79c99e4"
      },
      "outputs": [
        {
          "name": "stdout",
          "output_type": "stream",
          "text": [
            "Results Using Entropy with depth of 3 and min leaf of 5:\n",
            "Predicted values:\n",
            "[0 0 0 ... 0 1 1]\n",
            "Confusion Matrix:  \n",
            " [[6411  340]\n",
            " [1119 1179]]\n",
            "Accuracy:  83.87667145540944\n",
            "Report:  \n",
            "               precision    recall  f1-score   support\n",
            "\n",
            "           0       0.85      0.95      0.90      6751\n",
            "           1       0.78      0.51      0.62      2298\n",
            "\n",
            "    accuracy                           0.84      9049\n",
            "   macro avg       0.81      0.73      0.76      9049\n",
            "weighted avg       0.83      0.84      0.83      9049\n",
            "\n"
          ]
        }
      ],
      "source": [
        "# Tree Number One\n",
        "clf_entropy_1 = train_tree(X_train, y_train, 3, 5)\n",
        "print(\"Results Using Entropy with depth of 3 and min leaf of 5:\")\n",
        "y_pred_entropy = prediction_tree(X_test, clf_entropy_1)\n",
        "accuracy_tree(y_test, y_pred_entropy, clf_entropy_1)"
      ]
    },
    {
      "cell_type": "code",
      "execution_count": 22,
      "metadata": {
        "colab": {
          "base_uri": "https://localhost:8080/",
          "height": 337
        },
        "id": "EcP25SfMGxXe",
        "outputId": "d5066423-4316-4c0a-c0d6-becc22c7f6ce"
      },
      "outputs": [
        {
          "data": {
            "image/png": "[encoded data removed]",
            "text/plain": [
              "<Figure size 432x288 with 2 Axes>"
            ]
          },
          "metadata": {
            "needs_background": "light"
          },
          "output_type": "display_data"
        }
      ],
      "source": [
        "cf_matrix = confusion_matrix(y_test, y_pred_entropy)\n",
        "ax = sns.heatmap(cf_matrix/np.sum(cf_matrix), annot=True,\n",
        "fmt='.2%', cmap='Blues')\n",
        "ax.set_title('KNN Model Confusion Matrix\\n\\n');\n",
        "ax.set_xlabel('\\nPredicted Values')\n",
        "ax.set_ylabel('Actual Values ');\n",
        "## Ticket labels - List must be in alphabetical order\n",
        "ax.xaxis.set_ticklabels(['False','True'])\n",
        "ax.yaxis.set_ticklabels(['False','True'])\n",
        "## Display the visualization of the Confusion Matrix.\n",
        "plt.show()"
      ]
    },
    {
      "cell_type": "code",
      "execution_count": 25,
      "metadata": {
        "colab": {
          "base_uri": "https://localhost:8080/",
          "height": 618
        },
        "id": "I9vLwjxkGwC1",
        "outputId": "5527bc5c-a381-49f3-f88d-3cd2e792ba5c"
      },
      "outputs": [],
      "source": [
        "columns = dataset.columns.values.tolist()\n",
        "dot_data = tree.export_graphviz(clf_entropy_1, out_file=None, \n",
        "                              feature_names=columns[:97],  \n",
        "                              class_names=columns[97],\n",
        "                              filled=True)\n",
        "# Draw graph\n",
        "graph = graphviz.Source(dot_data, format=\"png\") \n",
        "#graph"
      ]
    },
    {
      "cell_type": "code",
      "execution_count": 27,
      "metadata": {
        "colab": {
          "base_uri": "https://localhost:8080/"
        },
        "id": "D70Woxd_8th5",
        "outputId": "e7bd544e-5106-43aa-9188-35e800222ea2"
      },
      "outputs": [
        {
          "name": "stdout",
          "output_type": "stream",
          "text": [
            "Results Using Entropy with depth of 8 and min leaf of 10:\n",
            "Predicted values:\n",
            "[0 0 0 ... 0 1 1]\n",
            "Confusion Matrix:  \n",
            " [[6420  331]\n",
            " [1051 1247]]\n",
            "Accuracy:  84.7275942093049\n",
            "Report:  \n",
            "               precision    recall  f1-score   support\n",
            "\n",
            "           0       0.86      0.95      0.90      6751\n",
            "           1       0.79      0.54      0.64      2298\n",
            "\n",
            "    accuracy                           0.85      9049\n",
            "   macro avg       0.82      0.75      0.77      9049\n",
            "weighted avg       0.84      0.85      0.84      9049\n",
            "\n"
          ]
        }
      ],
      "source": [
        "# Tree Number Two\n",
        "clf_entropy_2 = train_tree(X_train, y_train, 8, 10)\n",
        "print(\"Results Using Entropy with depth of 8 and min leaf of 10:\")\n",
        "y_pred_entropy = prediction_tree(X_test, clf_entropy_2)\n",
        "accuracy_tree(y_test, y_pred_entropy, clf_entropy_2)"
      ]
    },
    {
      "cell_type": "code",
      "execution_count": 28,
      "metadata": {
        "colab": {
          "base_uri": "https://localhost:8080/",
          "height": 337
        },
        "id": "4LlLj8fSG_as",
        "outputId": "db669e72-0ec7-4625-a412-2a26ba92a508"
      },
      "outputs": [
        {
          "data": {
            "image/png": "[encoded data removed]",
            "text/plain": [
              "<Figure size 432x288 with 2 Axes>"
            ]
          },
          "metadata": {
            "needs_background": "light"
          },
          "output_type": "display_data"
        }
      ],
      "source": [
        "cf_matrix = confusion_matrix(y_test, y_pred_entropy)\n",
        "ax = sns.heatmap(cf_matrix/np.sum(cf_matrix), annot=True,\n",
        "fmt='.2%', cmap='Blues')\n",
        "ax.set_title('KNN Model Confusion Matrix\\n\\n');\n",
        "ax.set_xlabel('\\nPredicted Values')\n",
        "ax.set_ylabel('Actual Values ');\n",
        "## Ticket labels - List must be in alphabetical order\n",
        "ax.xaxis.set_ticklabels(['False','True'])\n",
        "ax.yaxis.set_ticklabels(['False','True'])\n",
        "## Display the visualization of the Confusion Matrix.\n",
        "plt.show()"
      ]
    },
    {
      "cell_type": "code",
      "execution_count": 30,
      "metadata": {
        "colab": {
          "base_uri": "https://localhost:8080/",
          "height": 1000
        },
        "id": "R2sV1ZGDG-uw",
        "outputId": "2e69e704-dad9-405d-9dcf-f4355a532dd3"
      },
      "outputs": [],
      "source": [
        "columns = dataset.columns.values.tolist()\n",
        "dot_data = tree.export_graphviz(clf_entropy_2, out_file=None, \n",
        "                              feature_names=columns[:97],  \n",
        "                              class_names=columns[97],\n",
        "                              filled=True)\n",
        "# Draw graph\n",
        "graph = graphviz.Source(dot_data, format=\"png\") \n",
        "#graph"
      ]
    },
    {
      "cell_type": "code",
      "execution_count": 32,
      "metadata": {
        "colab": {
          "base_uri": "https://localhost:8080/"
        },
        "id": "ZxXaACnV8vUj",
        "outputId": "c7aa2d98-9790-4af4-a3ef-b2c3bd29aa25"
      },
      "outputs": [
        {
          "name": "stdout",
          "output_type": "stream",
          "text": [
            "Results Using Entropy with depth of 13 and min leaf of 15:\n",
            "Predicted values:\n",
            "[0 0 0 ... 0 1 1]\n",
            "Confusion Matrix:  \n",
            " [[6247  504]\n",
            " [ 914 1384]]\n",
            "Accuracy:  84.32976019449663\n",
            "Report:  \n",
            "               precision    recall  f1-score   support\n",
            "\n",
            "           0       0.87      0.93      0.90      6751\n",
            "           1       0.73      0.60      0.66      2298\n",
            "\n",
            "    accuracy                           0.84      9049\n",
            "   macro avg       0.80      0.76      0.78      9049\n",
            "weighted avg       0.84      0.84      0.84      9049\n",
            "\n"
          ]
        }
      ],
      "source": [
        "# Tree Number Three\n",
        "clf_entropy_3 = train_tree(X_train, y_train, 13, 15)\n",
        "print(\"Results Using Entropy with depth of 13 and min leaf of 15:\")\n",
        "y_pred_entropy = prediction_tree(X_test, clf_entropy_3)\n",
        "accuracy_tree(y_test, y_pred_entropy, clf_entropy_3)"
      ]
    },
    {
      "cell_type": "code",
      "execution_count": 33,
      "metadata": {
        "colab": {
          "base_uri": "https://localhost:8080/",
          "height": 337
        },
        "id": "sxoODAqJHHqh",
        "outputId": "21e68253-b417-4d6a-a372-72b031a1c079"
      },
      "outputs": [
        {
          "data": {
            "image/png": "[encoded data removed]",
            "text/plain": [
              "<Figure size 432x288 with 2 Axes>"
            ]
          },
          "metadata": {
            "needs_background": "light"
          },
          "output_type": "display_data"
        }
      ],
      "source": [
        "cf_matrix = confusion_matrix(y_test, y_pred_entropy)\n",
        "ax = sns.heatmap(cf_matrix/np.sum(cf_matrix), annot=True,\n",
        "fmt='.2%', cmap='Blues')\n",
        "ax.set_title('KNN Model Confusion Matrix\\n\\n');\n",
        "ax.set_xlabel('\\nPredicted Values')\n",
        "ax.set_ylabel('Actual Values ');\n",
        "## Ticket labels - List must be in alphabetical order\n",
        "ax.xaxis.set_ticklabels(['False','True'])\n",
        "ax.yaxis.set_ticklabels(['False','True'])\n",
        "## Display the visualization of the Confusion Matrix.\n",
        "plt.show()"
      ]
    },
    {
      "cell_type": "code",
      "execution_count": 35,
      "metadata": {
        "colab": {
          "base_uri": "https://localhost:8080/",
          "height": 1000
        },
        "id": "mxM6NzxvHHPQ",
        "outputId": "d585311d-c6ba-45f2-bfdd-6a86b56f6e71"
      },
      "outputs": [],
      "source": [
        "columns = dataset.columns.values.tolist()\n",
        "dot_data = tree.export_graphviz(clf_entropy_3, out_file=None, \n",
        "                              feature_names=columns[:97],  \n",
        "                              class_names=columns[97],\n",
        "                              filled=True)\n",
        "# Draw graph\n",
        "graph = graphviz.Source(dot_data, format=\"png\") \n",
        "#graph"
      ]
    },
    {
      "cell_type": "markdown",
      "metadata": {
        "id": "quEdBOzRMPwD"
      },
      "source": [
        "# KNN Model\n",
        "From what we can observe below, we implemented this model with three similar functions related to the decision tree's section. The main difference consist on the Scikit-learn function that is called -in this case, we are using the KNeighborsClassifier-. \\\\\n",
        "The k-Nearest Neighbors Model consists of an algotihm that uses information from the attributes that are in the near proximity between one another [7]. \\\\\n",
        "One of its main advantages is that this model can be represented in a simple and effective way, considering not huge datasets, but tidy ones [8]. And this was the main reason why we selected KNN Model for our homework."
      ]
    },
    {
      "cell_type": "code",
      "execution_count": 36,
      "metadata": {
        "id": "oO4P-5QY4ZJJ"
      },
      "outputs": [],
      "source": [
        "# Function to make predictions\n",
        "def prediction_knn(X_test_knn, clf_object_knn):\n",
        "  # Prediction on test with giniIndex\n",
        "  y_pred_knn = clf_object_knn.predict(X_test_knn)\n",
        "  print(\"Predicted values:\")\n",
        "  print(y_pred_knn)\n",
        "  return y_pred_knn"
      ]
    },
    {
      "cell_type": "code",
      "execution_count": 37,
      "metadata": {
        "id": "xuT8kGyH4mHG"
      },
      "outputs": [],
      "source": [
        "# Function to calculate accuracy\n",
        "def accuracy_knn(y_test_knn, y_pred_knn):\n",
        "  print(\"Confusion Matrix: \", '\\n',\n",
        "        confusion_matrix(y_test_knn, y_pred_knn))\n",
        "  print(\"Accuracy: \",\n",
        "        accuracy_score(y_test_knn,y_pred_knn)*100)\n",
        "  print(\"Report: \", '\\n',\n",
        "        classification_report(y_test_knn, y_pred_knn))"
      ]
    },
    {
      "cell_type": "code",
      "execution_count": 38,
      "metadata": {
        "id": "S8recw6A0zUx"
      },
      "outputs": [],
      "source": [
        "# Function to perform training for KNN Model.\n",
        "def train_knn(X_train, y_train):\n",
        "  knn = KNeighborsClassifier()\n",
        "  # Performing training\n",
        "  knn.fit(X_train, y_train)\n",
        "  return knn"
      ]
    },
    {
      "cell_type": "code",
      "execution_count": 41,
      "metadata": {
        "colab": {
          "base_uri": "https://localhost:8080/"
        },
        "id": "ax6C-IJX1QK_",
        "outputId": "4f532bdf-75be-48fb-8a25-95e572074b98"
      },
      "outputs": [
        {
          "name": "stdout",
          "output_type": "stream",
          "text": [
            "Results Using KNN:\n",
            "Predicted values:\n",
            "[0 0 0 ... 0 0 1]\n"
          ]
        },
        {
          "ename": "NameError",
          "evalue": "name 'y_pred_svm' is not defined",
          "output_type": "error",
          "traceback": [
            "\u001b[1;31m---------------------------------------------------------------------------\u001b[0m",
            "\u001b[1;31mNameError\u001b[0m                                 Traceback (most recent call last)",
            "\u001b[1;32mC:\\Users\\PCRUIH~1\\AppData\\Local\\Temp/ipykernel_23508/3737963391.py\u001b[0m in \u001b[0;36m<module>\u001b[1;34m\u001b[0m\n\u001b[0;32m      2\u001b[0m \u001b[0mprint\u001b[0m\u001b[1;33m(\u001b[0m\u001b[1;34m\"Results Using KNN:\"\u001b[0m\u001b[1;33m)\u001b[0m\u001b[1;33m\u001b[0m\u001b[1;33m\u001b[0m\u001b[0m\n\u001b[0;32m      3\u001b[0m \u001b[0my_pred_knn\u001b[0m \u001b[1;33m=\u001b[0m \u001b[0mprediction_knn\u001b[0m\u001b[1;33m(\u001b[0m\u001b[0mX_test\u001b[0m\u001b[1;33m,\u001b[0m \u001b[0mclf_knn\u001b[0m\u001b[1;33m)\u001b[0m\u001b[1;33m\u001b[0m\u001b[1;33m\u001b[0m\u001b[0m\n\u001b[1;32m----> 4\u001b[1;33m \u001b[0maccuracy_knn\u001b[0m\u001b[1;33m(\u001b[0m\u001b[0my_test\u001b[0m\u001b[1;33m,\u001b[0m \u001b[0my_pred_knn\u001b[0m\u001b[1;33m)\u001b[0m\u001b[1;33m\u001b[0m\u001b[1;33m\u001b[0m\u001b[0m\n\u001b[0m",
            "\u001b[1;32mC:\\Users\\PCRUIH~1\\AppData\\Local\\Temp/ipykernel_23508/930440991.py\u001b[0m in \u001b[0;36maccuracy_knn\u001b[1;34m(y_test_knn, y_pred_knn)\u001b[0m\n\u001b[0;32m      2\u001b[0m \u001b[1;32mdef\u001b[0m \u001b[0maccuracy_knn\u001b[0m\u001b[1;33m(\u001b[0m\u001b[0my_test_knn\u001b[0m\u001b[1;33m,\u001b[0m \u001b[0my_pred_knn\u001b[0m\u001b[1;33m)\u001b[0m\u001b[1;33m:\u001b[0m\u001b[1;33m\u001b[0m\u001b[1;33m\u001b[0m\u001b[0m\n\u001b[0;32m      3\u001b[0m   print(\"Confusion Matrix: \", '\\n',\n\u001b[1;32m----> 4\u001b[1;33m         confusion_matrix(y_test_knn, y_pred_svm))\n\u001b[0m\u001b[0;32m      5\u001b[0m   print(\"Accuracy: \",\n\u001b[0;32m      6\u001b[0m         accuracy_score(y_test_knn,y_pred_knn)*100)\n",
            "\u001b[1;31mNameError\u001b[0m: name 'y_pred_svm' is not defined"
          ]
        }
      ],
      "source": [
        "clf_knn = train_knn(X_train, y_train)\n",
        "print(\"Results Using KNN:\")\n",
        "y_pred_knn = prediction_knn(X_test, clf_knn)\n",
        "accuracy_knn(y_test, y_pred_knn)"
      ]
    },
    {
      "cell_type": "code",
      "execution_count": null,
      "metadata": {
        "colab": {
          "base_uri": "https://localhost:8080/",
          "height": 337
        },
        "id": "MTvnk-EiFU39",
        "outputId": "8aa22877-48c6-4703-ea54-590ffbafcb6a"
      },
      "outputs": [],
      "source": [
        "cf_matrix = confusion_matrix(y_test, y_pred_knn)\n",
        "ax = sns.heatmap(cf_matrix/np.sum(cf_matrix), annot=True,\n",
        "fmt='.2%', cmap='Blues')\n",
        "ax.set_title('KNN Model Confusion Matrix\\n\\n');\n",
        "ax.set_xlabel('\\nPredicted Values')\n",
        "ax.set_ylabel('Actual Values ');\n",
        "## Ticket labels - List must be in alphabetical order\n",
        "ax.xaxis.set_ticklabels(['False','True'])\n",
        "ax.yaxis.set_ticklabels(['False','True'])\n",
        "## Display the visualization of the Confusion Matrix.\n",
        "plt.show()"
      ]
    },
    {
      "cell_type": "markdown",
      "metadata": {
        "id": "LXLorsaFSNAi"
      },
      "source": [
        "For a better representation of the results, we decided to create the previous Confusion Matrix for the Model. In addition, we also analyzed the accuracy results printed over the Confusion Matrix. \\\\\n",
        "From the image, we can observe that with this model and the proportion of 30% for testing and 70% for training, it can predict really well actual false values (with 69.22%). It has some space for improvements on the prediction of actual true values (7.69%), but overall it has a good accuracy with a percentage of 76.91 -which can be observed from the accuracy results printed over, or by adding \"69.22\" + \"7.69\"-."
      ]
    },
    {
      "cell_type": "markdown",
      "metadata": {
        "id": "0kLjxkOFNakj"
      },
      "source": [
        "# SVM Model\n",
        "Once again for this last model, the skeleton is the same as the other ones. The only difference is the use of Scikit-learn function for Support Vector Machine -which has the name of \"SVC\"-. This model is characterized for locating a \"hyperplane\" on the center of the input dataset with one small margin within values [9]. \\\\\n",
        "The main reason why we decided to imlement this model is because the hyperplane helps to classify the data points in an easier way, and since we are trying to do the same with our dataset, we used the Support Vector Machine algorithm."
      ]
    },
    {
      "cell_type": "code",
      "execution_count": null,
      "metadata": {
        "id": "Aa4O_7_F6XYr"
      },
      "outputs": [],
      "source": [
        "# Function to make predictions\n",
        "def prediction_svm(X_test_svm, clf_object_svm):\n",
        "  # Prediction on test with giniIndex\n",
        "  y_pred_svm = clf_object_svm.predict(X_test_svm)\n",
        "  print(\"Predicted values:\")\n",
        "  print(y_pred_svm)\n",
        "  return y_pred_svm"
      ]
    },
    {
      "cell_type": "code",
      "execution_count": null,
      "metadata": {
        "id": "gxiSgE-n6ZGy"
      },
      "outputs": [],
      "source": [
        "# Function to calculate accuracy\n",
        "def accuracy_svm(y_test_svm, y_pred_svm):\n",
        "  print(\"Confusion Matrix: \", '\\n',\n",
        "        confusion_matrix(y_test_svm, y_pred_svm))\n",
        "  print(\"Accuracy: \",\n",
        "        accuracy_score(y_test_svm,y_pred_svm)*100)\n",
        "  print(\"Report: \", '\\n',\n",
        "        classification_report(y_test_svm, y_pred_svm))"
      ]
    },
    {
      "cell_type": "code",
      "execution_count": null,
      "metadata": {
        "id": "RmVMP28s6bkw"
      },
      "outputs": [],
      "source": [
        "# Function to perform training for KNN Model.\n",
        "def train_svm(X_train, y_train):\n",
        "  svm = SVC()\n",
        "  # Performing training\n",
        "  svm.fit(X_train, y_train)\n",
        "  return svm"
      ]
    },
    {
      "cell_type": "code",
      "execution_count": null,
      "metadata": {
        "colab": {
          "base_uri": "https://localhost:8080/"
        },
        "id": "CFaRAeS_6dSx",
        "outputId": "f46ee46c-1be5-4a4e-bcc2-ce8061fb9c14"
      },
      "outputs": [],
      "source": [
        "clf_svm = train_svm(X_train, y_train)\n",
        "print(\"Results Using SVM:\")\n",
        "y_pred_svm = prediction_svm(X_test, clf_svm)\n",
        "accuracy_svm(y_test, y_pred_svm)"
      ]
    },
    {
      "cell_type": "code",
      "execution_count": null,
      "metadata": {
        "colab": {
          "base_uri": "https://localhost:8080/",
          "height": 337
        },
        "id": "kxr5eDJKGhAd",
        "outputId": "58a9e2ee-49b4-4b17-b268-9272de30c7b3"
      },
      "outputs": [],
      "source": [
        "cf_matrix = confusion_matrix(y_test, y_pred_svm)\n",
        "ax = sns.heatmap(cf_matrix/np.sum(cf_matrix), annot=True,\n",
        "fmt='.2%', cmap='Blues')\n",
        "ax.set_title('SVM Model Confusion Matrix\\n\\n');\n",
        "ax.set_xlabel('\\nPredicted Values')\n",
        "ax.set_ylabel('Actual Values ');\n",
        "## Ticket labels - List must be in alphabetical order\n",
        "ax.xaxis.set_ticklabels(['False','True'])\n",
        "ax.yaxis.set_ticklabels(['False','True'])\n",
        "## Display the visualization of the Confusion Matrix.\n",
        "plt.show()"
      ]
    },
    {
      "cell_type": "markdown",
      "metadata": {
        "id": "EeqgSiXaIN5W"
      },
      "source": [
        "# Results\n",
        "For a better comparison of the three decision trees, the Support Vector Machine Model and the KNN one, we decided to create the next plot."
      ]
    },
    {
      "cell_type": "code",
      "execution_count": null,
      "metadata": {
        "colab": {
          "base_uri": "https://localhost:8080/",
          "height": 685
        },
        "id": "nSAC3j9gIQwY",
        "outputId": "296088b1-a2c5-4582-d13c-c6cf16137727"
      },
      "outputs": [],
      "source": [
        "#lets find roc curve to check best fittted model\n",
        "disp = plot_roc_curve(clf_entropy_1,X_test,y_test)\n",
        "plot_roc_curve(clf_entropy_2,X_test,y_test,ax=disp.ax_)\n",
        "plot_roc_curve(clf_entropy_3,X_test,y_test,ax=disp.ax_)\n",
        "plot_roc_curve(clf_svm,X_test,y_test,ax=disp.ax_)\n",
        "plot_roc_curve(clf_knn,X_test,y_test,ax=disp.ax_)\n",
        "plt.legend(prop = {'size':11}, loc ='lower right')"
      ]
    },
    {
      "cell_type": "markdown",
      "metadata": {
        "id": "GSKDtqxpKHgg"
      },
      "source": [
        "As per above, we can see that the second decision tree classifier is giving the best score."
      ]
    },
    {
      "cell_type": "markdown",
      "metadata": {
        "id": "THc3NRoqfUT5"
      },
      "source": [
        "# Discussion & Conclusions\n",
        "As a matter of conclusion, we would like to mention that this activity was quite educative. We explored how to tackle a dataset with three different methods, in this case the Decision Tree, the KNN and the SVM. In these three we obtained that the second decision tree (the one with 8 as depth and 10 as leaves) returned the best results."
      ]
    },
    {
      "cell_type": "markdown",
      "metadata": {
        "id": "lGXHdY6BfcN9"
      },
      "source": [
        "# References\n",
        "\n",
        "[1] Machine Learning Repository: Center for Machine Learning and Intelligent Systems. (n.a). Recovered from https://archive.ics.uci.edu/ml/datasets.php on March 29th, 2022. \\\\\n",
        "[2] Scikit-learn: Machine Learning in Python. (2022). Recovered from https://scikit-learn.org/stable/ on March 29th, 2022. \\\\\n",
        "[3] Pandas. (2022). Recovered from https://pandas.pydata.org/ on March 29th, 2022. \\\\\n",
        "[4] Scikit-learn: OneHotEncoder. (2022). Recovered from https://scikit-learn.org/stable/modules/generated/sklearn.preprocessing.OneHotEncoder.html on March 29th, 2022. \\\\\n",
        "[5] Scikit-learn: StandardScaler. (2022). Recovered from https://scikit-learn.org/stable/modules/generated/sklearn.preprocessing.StandardScaler.html on March 29th, 2022. \\\\\n",
        "[6] Scikit-learn: train_test_split. (2022). Recovered from https://scikit-learn.org/stable/modules/generated/sklearn.model_selection.train_test_split.html on March 29th, 2022. \\\\\n",
        "[7] Machine Learning Basics with the K-Nearest Neighbors Algorithm. (2018). Retrieved from https://towardsdatascience.com/machine-learning-basics-with-the-k-nearest-neighbors-algorithm-6a6e71d0176 on March 29th, 2022. \\\\\n",
        "[8] González, M. (2022). Machine Learning 4 - KNN Model. Canvas. Retrieved from https://experiencia21.tec.mx/ on March 29th, 2022. \\\\\n",
        "[9] Support Vector Machine - Introduction to Machine Learning Algorithms. (2022). Retrieved from https://towardsdatascience.com/support-vector-machine-introduction-to-machine-learning-algorithms-934a444fca47 on March 29th, 2022. \\\\"
      ]
    }
  ],
  "metadata": {
    "colab": {
      "collapsed_sections": [],
      "name": "Assignment_2_Supervised_Classification.ipynb",
      "provenance": []
    },
    "interpreter": {
      "hash": "01864355e0233afee48d67452cbc698cdd9833cfa686427969467eb8981260ef"
    },
    "kernelspec": {
      "display_name": "Python 3.7.4 64-bit",
      "language": "python",
      "name": "python3"
    },
    "language_info": {
      "codemirror_mode": {
        "name": "ipython",
        "version": 3
      },
      "file_extension": ".py",
      "mimetype": "text/x-python",
      "name": "python",
      "nbconvert_exporter": "python",
      "pygments_lexer": "ipython3",
      "version": "3.7.4"
    }
  },
  "nbformat": 4,
  "nbformat_minor": 0
}
